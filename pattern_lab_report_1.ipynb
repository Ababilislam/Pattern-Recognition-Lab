{
  "nbformat": 4,
  "nbformat_minor": 0,
  "metadata": {
    "colab": {
      "name": "pattern_lab_report_1.ipynb",
      "provenance": [],
      "collapsed_sections": [],
      "authorship_tag": "ABX9TyPQAq1yR2cgt4pjgClRjozi"
    },
    "kernelspec": {
      "name": "python3",
      "display_name": "Python 3"
    },
    "language_info": {
      "name": "python"
    },
    "accelerator": "GPU"
  },
  "cells": [
    {
      "cell_type": "markdown",
      "metadata": {
        "id": "0L3d48I8ElRg"
      },
      "source": [
        "**Factorial of a number using for loop**"
      ]
    },
    {
      "cell_type": "code",
      "metadata": {
        "id": "2XB1BezDEcza",
        "colab": {
          "base_uri": "https://localhost:8080/"
        },
        "outputId": "b794b3b6-84d1-4c91-a754-f5df5a6fe74f"
      },
      "source": [
        "data = int(input(\"Enter The Number:\"))\n",
        "fact=1\n",
        "for i in range(1,data+1):\n",
        "    fact=fact*i\n",
        "print(fact)"
      ],
      "execution_count": null,
      "outputs": [
        {
          "output_type": "stream",
          "text": [
            "Enter The Number:6\n",
            "720\n"
          ],
          "name": "stdout"
        }
      ]
    },
    {
      "cell_type": "markdown",
      "metadata": {
        "id": "SaW-EkZAG8GS"
      },
      "source": [
        "Question 2 **Pattern printing**"
      ]
    },
    {
      "cell_type": "code",
      "metadata": {
        "colab": {
          "base_uri": "https://localhost:8080/"
        },
        "id": "TwUoRfdGHIx3",
        "outputId": "1e6fe3e6-2bc1-475f-8c94-3a8ea2bc1a45"
      },
      "source": [
        "data = int(input(\"Enter N:\"))\n",
        "for i in range(1,data+1):\n",
        "    for j in range(1,i+1):\n",
        "        print(j,end=\"\")\n",
        "    print(\"\")"
      ],
      "execution_count": null,
      "outputs": [
        {
          "output_type": "stream",
          "text": [
            "Enter N:3\n",
            "1\n",
            "12\n",
            "123\n"
          ],
          "name": "stdout"
        }
      ]
    },
    {
      "cell_type": "markdown",
      "metadata": {
        "id": "VYw5PkFjI1vW"
      },
      "source": [
        "**Question 3**"
      ]
    },
    {
      "cell_type": "code",
      "metadata": {
        "colab": {
          "base_uri": "https://localhost:8080/"
        },
        "id": "sxtChSgUJ2D0",
        "outputId": "fb78f153-ad93-4b53-f38e-436226e3bc53"
      },
      "source": [
        "while(True):\n",
        "    data = int(input(\"Enter an positive integer:\"))\n",
        "    if data>0:\n",
        "        positive_number = data\n",
        "        break\n",
        "    else:\n",
        "        print(\"Please Enter an positive integer.\")\n",
        "\n",
        "if(data%2==1):\n",
        "    print(\"Weird\")\n",
        "elif(data%2==0):\n",
        "    if data>=2 and data<=5:     #odd number is int concern here so havig data<5 or data<=5 are same thing.\n",
        "        print(\"Not Weird\")\n",
        "    elif data>=6 and data<20:\n",
        "        print(\"Weird\")\n",
        "    elif data>20:\n",
        "        print(\"Not Weird\")"
      ],
      "execution_count": null,
      "outputs": [
        {
          "output_type": "stream",
          "text": [
            "Enter an positive integer:22\n",
            "Not Weird\n"
          ],
          "name": "stdout"
        }
      ]
    },
    {
      "cell_type": "markdown",
      "metadata": {
        "id": "Nog8o-jbPtj2"
      },
      "source": [
        "**Question 4** **Second smallest number form a list.**"
      ]
    },
    {
      "cell_type": "code",
      "metadata": {
        "id": "DR749LL0Pt-K",
        "colab": {
          "base_uri": "https://localhost:8080/"
        },
        "outputId": "c9f70e5c-f32e-454e-facf-11b56270f65f"
      },
      "source": [
        "n = int(input(\"Enter data size:\"))\n",
        "data_list=[]\n",
        "print(\"Sample Input\")\n",
        "for i in range(n):\n",
        "    data =int(input())\n",
        "    data_list.append(data)\n",
        "print(\"Sample Output\")\n",
        "\n",
        "def second_minumum(data):\n",
        "    min1=min2=float('inf')\n",
        "    for i in data:\n",
        "        if i <= min1:\n",
        "            min1,min2=i,min1\n",
        "        elif i<min2:\n",
        "            min2=i\n",
        "    return min2\n",
        "secmin=second_minumum(data_list)\n",
        "print(secmin)"
      ],
      "execution_count": null,
      "outputs": [
        {
          "output_type": "stream",
          "text": [
            "Enter data size:5\n",
            "Sample Input\n",
            "34\n",
            "67\n",
            "12\n",
            "90\n",
            "30\n",
            "Sample Output\n",
            "30\n"
          ],
          "name": "stdout"
        }
      ]
    },
    {
      "cell_type": "markdown",
      "metadata": {
        "id": "Gju42GQ8XBuJ"
      },
      "source": [
        "this code with string data"
      ]
    },
    {
      "cell_type": "code",
      "metadata": {
        "colab": {
          "base_uri": "https://localhost:8080/"
        },
        "id": "2XcJ5fe1W9sr",
        "outputId": "941dcb8d-22fc-4bb2-87fe-bf5b04c09090"
      },
      "source": [
        "n = int(input())\n",
        "data_list=[]\n",
        "# print(\"Sample Input\")\n",
        "data =input()\n",
        "dta =data.split(\" \")\n",
        "# [int(i) for i in dta]\n",
        "for i in dta:\n",
        "    v=int(i)\n",
        "    data_list.append(v)\n",
        "print(\"Output\")\n",
        "\n",
        "def second_minumum(data):\n",
        "    min1=min2=float('inf')\n",
        "    for i in data:\n",
        "        if i <= min1:\n",
        "            min1,min2=i,min1\n",
        "        elif i < min2:\n",
        "            min2=i\n",
        "    return min2\n",
        "secmin=second_minumum(data_list)\n",
        "print(secmin)"
      ],
      "execution_count": null,
      "outputs": [
        {
          "output_type": "stream",
          "text": [
            "10\n",
            "8 10 4 6 89 29 12 77 66 5\n",
            "Output\n",
            "5\n"
          ],
          "name": "stdout"
        }
      ]
    },
    {
      "cell_type": "markdown",
      "metadata": {
        "id": "sdt7FKFNYNr9"
      },
      "source": [
        "**Question 5**"
      ]
    },
    {
      "cell_type": "markdown",
      "metadata": {
        "id": "LQTGM36ek6rC"
      },
      "source": [
        "*using operator*"
      ]
    },
    {
      "cell_type": "code",
      "metadata": {
        "colab": {
          "base_uri": "https://localhost:8080/"
        },
        "id": "z7_Vi4mmYSwF",
        "outputId": "e309fd8e-a7d6-45e4-fd5b-c1c4a474b029"
      },
      "source": [
        "import operator\n",
        "Students={'Rahim':3.76,'Kamal':3.85,'Amena':3.34,'Sabana':3.65}\n",
        "print(Students)\n",
        "sortedvalue = sorted(Students.items(), key=operator.itemgetter(1),reverse=True)\n",
        "# print(sortedvalue)\n",
        "for i in sortedvalue:\n",
        "    print(\"{} {}\".format(i[0],i[1]))"
      ],
      "execution_count": null,
      "outputs": [
        {
          "output_type": "stream",
          "text": [
            "{'Rahim': 3.76, 'Kamal': 3.85, 'Amena': 3.34, 'Sabana': 3.65}\n",
            "Kamal 3.85\n",
            "Rahim 3.76\n",
            "Sabana 3.65\n",
            "Amena 3.34\n"
          ],
          "name": "stdout"
        }
      ]
    },
    {
      "cell_type": "markdown",
      "metadata": {
        "id": "IxWke_5ceS_l"
      },
      "source": [
        "**using list and lambda**"
      ]
    },
    {
      "cell_type": "code",
      "metadata": {
        "colab": {
          "base_uri": "https://localhost:8080/"
        },
        "id": "VVg1xLtpeWcu",
        "outputId": "25136411-fefa-4c9b-bfed-cde8b86d36f7"
      },
      "source": [
        "Students={'Rahim':3.76,'Kamal':3.85,'Amena':3.34,'Sabana':3.65}\n",
        "print(Students)\n",
        "student = list(Students.items())\n",
        "# print(student)\n",
        "print(sorted(student, key=lambda x: x[1],reverse=True))\n",
        "student.sort(key=lambda x:x[1],reverse=True)\n",
        "# print(student)\n",
        "for i in student:\n",
        "    print(\"{} {}\".format(i[0],i[1]))"
      ],
      "execution_count": null,
      "outputs": [
        {
          "output_type": "stream",
          "text": [
            "{'Rahim': 3.76, 'Kamal': 3.85, 'Amena': 3.34, 'Sabana': 3.65}\n",
            "[('Kamal', 3.85), ('Rahim', 3.76), ('Sabana', 3.65), ('Amena', 3.34)]\n",
            "Kamal 3.85\n",
            "Rahim 3.76\n",
            "Sabana 3.65\n",
            "Amena 3.34\n"
          ],
          "name": "stdout"
        }
      ]
    },
    {
      "cell_type": "markdown",
      "metadata": {
        "id": "q0yOQo0xjVbg"
      },
      "source": [
        "**using function**"
      ]
    },
    {
      "cell_type": "code",
      "metadata": {
        "colab": {
          "base_uri": "https://localhost:8080/"
        },
        "id": "-wEP6f4ZjaHa",
        "outputId": "bcd39d58-15fd-4d7c-f7cb-f81239a59fe3"
      },
      "source": [
        "def Dictonary_sorting(data):\n",
        "    return data[1]\n",
        "\n",
        "\n",
        "Students={'Rahim':3.76,'Kamal':3.85,'Amena':3.34,'Sabana':3.65}\n",
        "# print(Students)\n",
        "student = list(Students.items())\n",
        "student.sort(key=Dictonary_sorting,reverse=True)\n",
        "# print(student)\n",
        "for i in student:\n",
        "    print(\"{} {}\".format(i[0],i[1]))"
      ],
      "execution_count": null,
      "outputs": [
        {
          "output_type": "stream",
          "text": [
            "Kamal 3.85\n",
            "Rahim 3.76\n",
            "Sabana 3.65\n",
            "Amena 3.34\n"
          ],
          "name": "stdout"
        }
      ]
    }
  ]
}