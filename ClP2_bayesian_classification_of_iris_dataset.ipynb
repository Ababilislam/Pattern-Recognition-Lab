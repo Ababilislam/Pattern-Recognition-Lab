{
  "nbformat": 4,
  "nbformat_minor": 0,
  "metadata": {
    "colab": {
      "name": "ClP2_bayesian_classification_of_iris_dataset.ipynb",
      "provenance": [],
      "collapsed_sections": [],
      "authorship_tag": "ABX9TyMbw+DSbV76hGeC2YMrR8t+",
      "include_colab_link": true
    },
    "kernelspec": {
      "name": "python3",
      "display_name": "Python 3"
    },
    "language_info": {
      "name": "python"
    }
  },
  "cells": [
    {
      "cell_type": "markdown",
      "metadata": {
        "id": "view-in-github",
        "colab_type": "text"
      },
      "source": [
        "<a href=\"https://colab.research.google.com/github/Ababilislam/Pattern-Recognition-Lab/blob/main/ClP2_bayesian_classification_of_iris_dataset.ipynb\" target=\"_parent\"><img src=\"https://colab.research.google.com/assets/colab-badge.svg\" alt=\"Open In Colab\"/></a>"
      ]
    },
    {
      "cell_type": "code",
      "metadata": {
        "id": "kwNMEvpNP5U3"
      },
      "source": [
        ""
      ],
      "execution_count": 16,
      "outputs": []
    },
    {
      "cell_type": "markdown",
      "metadata": {
        "id": "1FqfmtTeQKoI"
      },
      "source": [
        "#naive baias in iris data set\n",
        "```\n",
        "# This is formatted as code\n",
        "```\n",
        "\n"
      ]
    },
    {
      "cell_type": "code",
      "metadata": {
        "id": "XKSeTC2eQPhp"
      },
      "source": [
        "import numpy as np\n",
        "from math import sqrt\n",
        "from math import pi\n",
        "from math import exp\n",
        "import csv"
      ],
      "execution_count": 17,
      "outputs": []
    },
    {
      "cell_type": "markdown",
      "metadata": {
        "id": "kNi28q-5Qo1d"
      },
      "source": [
        "csv data read"
      ]
    },
    {
      "cell_type": "code",
      "metadata": {
        "id": "O2XVGggNQn-T"
      },
      "source": [
        "file = open(\"iris.csv\")\n",
        "dataset = np.loadtxt(file, delimiter=\",\")"
      ],
      "execution_count": 18,
      "outputs": []
    },
    {
      "cell_type": "markdown",
      "metadata": {
        "id": "Fwg4B8okQtrq"
      },
      "source": [
        "**data sapatated by class**"
      ]
    },
    {
      "cell_type": "code",
      "metadata": {
        "id": "xKZGZfgvQsBV"
      },
      "source": [
        "def separate_by_class(dataset):\n",
        "\tseparated = dict()\n",
        "\tfor i in range(len(dataset)):\n",
        "\t\tvector = dataset[i]\n",
        "\t\tclass_value = vector[-1]\n",
        "\t\tif (class_value not in separated):\n",
        "\t\t\tseparated[class_value] = list()\n",
        "\t\tseparated[class_value].append(vector)\n",
        "\treturn separated\n",
        "\n",
        "separate = separate_by_class(dataset)\n",
        "# for label in separate:\n",
        "#     print(label)\n",
        "#     for row in separate[label]:\n",
        "#         print(row)"
      ],
      "execution_count": 19,
      "outputs": []
    },
    {
      "cell_type": "markdown",
      "metadata": {
        "id": "PZUkzzExQzzd"
      },
      "source": [
        "**mean,standard deviation, dataset sumarising**"
      ]
    },
    {
      "cell_type": "code",
      "metadata": {
        "id": "21sW9qobQ9vx"
      },
      "source": [
        "def mean(numbers):\n",
        "    return sum(numbers)/float(len(numbers))\n",
        "\n",
        "\n",
        "def std(numbers):\n",
        "    avg = mean(numbers)\n",
        "    variance = sum([(x-avg)**2 for x in numbers])/float(len(numbers)-1)\n",
        "    # print(avg)\n",
        "    # print(variance)\n",
        "    return sqrt(variance)\n",
        "\n",
        "\n",
        "# Calculate the mean, stdev and count for each column in a dataset\n",
        "def summarize_dataset(dataset):\n",
        "\tsummaries = [(mean(column), std(column), len(column)) for column in zip(*dataset)]\n",
        "\tdel(summaries[-1])\n",
        "\treturn summaries\n",
        "\n",
        "# summary = summarize_dataset(dataset)\n",
        "# print(summary)"
      ],
      "execution_count": 20,
      "outputs": []
    },
    {
      "cell_type": "markdown",
      "metadata": {
        "id": "2pLHx1QSRB-G"
      },
      "source": [
        "**data set sumarise by class**"
      ]
    },
    {
      "cell_type": "code",
      "metadata": {
        "id": "QU8VuDUURBVF"
      },
      "source": [
        "def summarize_by_class(dataset):\n",
        "    saparated = separate_by_class(dataset)\n",
        "    summaries = dict()\n",
        "    for class_value,rows in saparated.items():\n",
        "        summaries[class_value]=summarize_dataset(rows)\n",
        "    return summaries\n",
        "\n",
        "summary = summarize_by_class(dataset)\n",
        "# for label in summary:\n",
        "# \tprint(label)\n",
        "# \tfor row in summary[label]:\n",
        "# \t\tprint(row)"
      ],
      "execution_count": 21,
      "outputs": []
    },
    {
      "cell_type": "markdown",
      "metadata": {
        "id": "cYmnAp3ZRKBr"
      },
      "source": [
        "**Gaussian probability distribution function**"
      ]
    },
    {
      "cell_type": "code",
      "metadata": {
        "id": "HGIPbxDVRRHa"
      },
      "source": [
        "def cal_probability(x,mean,std):\n",
        "    exponent=exp(-((x-mean)**2/(2*std**2)))\n",
        "    return(1/(sqrt(2*pi)*std))*exponent"
      ],
      "execution_count": 22,
      "outputs": []
    },
    {
      "cell_type": "markdown",
      "metadata": {
        "id": "YATAqn6dRS4j"
      },
      "source": [
        "**just testing a dummy probability**"
      ]
    },
    {
      "cell_type": "code",
      "metadata": {
        "id": "dp8gqTMeRcha"
      },
      "source": [
        "# print(cal_probability(4.4,2.9,1.4))"
      ],
      "execution_count": 23,
      "outputs": []
    },
    {
      "cell_type": "markdown",
      "metadata": {
        "id": "dnWaRy_nReEt"
      },
      "source": [
        "**Class Probability**"
      ]
    },
    {
      "cell_type": "code",
      "metadata": {
        "id": "4nfIRa9gRjfY"
      },
      "source": [
        "def calculate_class_probabilities(summaries, row):\n",
        "\ttotal_rows = sum([summaries[label][0][2] for label in summaries])\n",
        "\tprobabilities = dict()\n",
        "\tfor class_value, class_summaries in summaries.items():\n",
        "\t\tprobabilities[class_value] = summaries[class_value][0][2]/float(total_rows)\n",
        "\t\tfor i in range(len(class_summaries)):\n",
        "\t\t\tmean, std, count = class_summaries[i]\n",
        "\t\t\tprobabilities[class_value] *= cal_probability(row[i], mean, std)\n",
        "\treturn probabilities"
      ],
      "execution_count": 24,
      "outputs": []
    },
    {
      "cell_type": "markdown",
      "metadata": {
        "id": "xIsEAksURlYm"
      },
      "source": [
        "**printing probability of iris dataset**"
      ]
    },
    {
      "cell_type": "code",
      "metadata": {
        "colab": {
          "base_uri": "https://localhost:8080/"
        },
        "id": "8qyI7vjCRtts",
        "outputId": "e5f6b1f7-784f-4193-8109-a92997bdd486"
      },
      "source": [
        "summaries = summarize_by_class(dataset)\n",
        "probabilities = calculate_class_probabilities(summaries, dataset[0])\n",
        "\n",
        "# print(probabilities)\n",
        "iris=['Iris-setosa','Iris-versicolor','Iris Virginica']\n",
        "\n",
        "for key,value in probabilities.items():\n",
        "    if(key==0):\n",
        "        ky=int(key)\n",
        "        print(\"chance of being\",iris[ky]+\" is \"+str(value))\n",
        "    elif(key==1):\n",
        "        ky=int(key)\n",
        "        print(\"chance of being\",iris[ky]+\" is \"+str(value))\n",
        "    elif(key==2):\n",
        "        ky=int(key)\n",
        "        print(\"chance of being\",iris[ky]+\" is \"+str(value))"
      ],
      "execution_count": 25,
      "outputs": [
        {
          "output_type": "stream",
          "text": [
            "chance of being Iris-setosa is 2.7367830685875516\n",
            "chance of being Iris-versicolor is 8.322426199968131e-18\n",
            "chance of being Iris Virginica is 6.008422572010989e-25\n"
          ],
          "name": "stdout"
        }
      ]
    },
    {
      "cell_type": "markdown",
      "metadata": {
        "id": "7OvWmKfWRwtp"
      },
      "source": [
        "**Predicting Final result**"
      ]
    },
    {
      "cell_type": "code",
      "metadata": {
        "colab": {
          "base_uri": "https://localhost:8080/"
        },
        "id": "e7SklpEMR3aD",
        "outputId": "a0d99e7d-deca-4001-9ffd-54ee6492fe7e"
      },
      "source": [
        "# data_list=probabilities.values()\n",
        "# prediction =max(data_list)\n",
        "# print(probabilities.values())\n",
        "inverse = [(value, key) for key, value in probabilities.items()]\n",
        "prob_index=int(max(inverse)[1])\n",
        "for i in range(len(iris)):\n",
        "    if i==prob_index:\n",
        "        print(\"Prediction is \"+iris[i])\n",
        "# print(prediction)"
      ],
      "execution_count": 26,
      "outputs": [
        {
          "output_type": "stream",
          "text": [
            "Prediction is Iris-setosa\n"
          ],
          "name": "stdout"
        }
      ]
    }
  ]
}