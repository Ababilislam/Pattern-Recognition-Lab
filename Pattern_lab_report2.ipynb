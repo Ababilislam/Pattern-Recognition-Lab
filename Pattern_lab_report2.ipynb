{
  "nbformat": 4,
  "nbformat_minor": 0,
  "metadata": {
    "colab": {
      "name": "Pattern_lab_report2.ipynb",
      "provenance": [],
      "collapsed_sections": [],
      "authorship_tag": "ABX9TyOxVlq2/EyqRPUus2KzZaP2",
      "include_colab_link": true
    },
    "kernelspec": {
      "display_name": "Python 3",
      "name": "python3"
    },
    "language_info": {
      "name": "python"
    }
  },
  "cells": [
    {
      "cell_type": "markdown",
      "metadata": {
        "id": "view-in-github",
        "colab_type": "text"
      },
      "source": [
        "<a href=\"https://colab.research.google.com/github/Ababilislam/Pattern-Recognition-Lab/blob/main/Pattern_lab_report2.ipynb\" target=\"_parent\"><img src=\"https://colab.research.google.com/assets/colab-badge.svg\" alt=\"Open In Colab\"/></a>"
      ]
    },
    {
      "cell_type": "markdown",
      "metadata": {
        "id": "wGvjYwk3opf5"
      },
      "source": [
        "**Question 1**"
      ]
    },
    {
      "cell_type": "markdown",
      "metadata": {
        "id": "yL91dtm675Tm"
      },
      "source": [
        ""
      ]
    },
    {
      "cell_type": "code",
      "metadata": {
        "id": "LtIL_sDmTujV"
      },
      "source": [
        "import re\n",
        "elements=[]\n",
        "word_list =[]\n",
        "delimiters = \",\", \".\", \"\\n\",\"(\",\")\"\n",
        "with open('data.txt','r') as file:\n",
        "    for line in file:\n",
        "        regxp ='|'.join(map(re.escape, delimiters))\n",
        "        d=re.split(regxp,line)\n",
        "        for item in d:\n",
        "            da=item.split()\n",
        "            elements.append(da)\n",
        "file.close()\n",
        "for lst in elements:\n",
        "    for item in lst:\n",
        "        word_list.append(item)\n",
        "# print(word_list)\n",
        "\n",
        "data = input(\"The keyword is:\")\n",
        "counter = 0\n",
        "for i in word_list:\n",
        "    if data == i:\n",
        "        counter += 1\n",
        "print(\"Python has appeared {0} times.\".format(counter))"
      ],
      "execution_count": null,
      "outputs": []
    },
    {
      "cell_type": "markdown",
      "metadata": {
        "id": "83pcqOm8pQCy"
      },
      "source": [
        "**Question2**"
      ]
    },
    {
      "cell_type": "code",
      "metadata": {
        "id": "x8SAzOxr_YiM"
      },
      "source": [
        "import matplotlib.pyplot as plt\n",
        "import numpy as np\n",
        "import csv"
      ],
      "execution_count": null,
      "outputs": []
    },
    {
      "cell_type": "code",
      "metadata": {
        "id": "Xt_M_cSapUHL"
      },
      "source": [
        "\n",
        "column_name=['Mobile Brand','2016','2017','2018','2019','2020']     \n",
        "with open('Mobile.csv','w') as csv_file:\n",
        "    writer = csv.DictWriter(csv_file, fieldnames=column_name)\n",
        "    writer.writeheader()\n",
        "    writer.writerow({'Mobile Brand':'Samsung','2016':25,'2017':26,'2018':22,'2019':21,'2020':23.0})\n",
        "    writer.writerow({'Mobile Brand':'Vivo','2016':7,'2017':4,'2018':5,'2019':8,'2020':9.1})\n",
        "    writer.writerow({'Mobile Brand':'Xiaomi','2016':7,'2017':8,'2018':8,'2019':9,'2020':13.5})\n",
        "    writer.writerow({'Mobile Brand':'Huawei','2016':8,'2017':10,'2018':11,'2019':17,'2020':14.9})\n",
        "    writer.writerow({'Mobile Brand':'Apple','2016':9,'2017':11,'2018':14,'2019':10,'2020':12.4})\n",
        "csv_file.close()"
      ],
      "execution_count": null,
      "outputs": []
    },
    {
      "cell_type": "code",
      "metadata": {
        "id": "btjx-AXI_wZu"
      },
      "source": [
        "filename=\"Mobile.csv\"\n",
        "value=[]\n",
        "year=[]\n",
        "_2016=[]\n",
        "_2017=[]\n",
        "_2018=[]\n",
        "_2019=[]\n",
        "_2020=[]\n",
        "with open (filename,'r') as csv_read:\n",
        "    csv_data_reader = csv.reader(csv_read)\n",
        "    data=csv_data_reader\n",
        "    for i in data:\n",
        "        value.append(i)\n",
        "csv_read.close()\n",
        "\n",
        "# print(value)\n",
        "# value.pop(0)\n",
        "year.append(value[0])\n",
        "for i in year:\n",
        "    year=[]\n",
        "    for item in i:\n",
        "        # print(item)\n",
        "        year.append(item)\n",
        "# print(year)\n",
        "year.pop(0)\n",
        "# print(year)\n",
        "years=[]\n",
        "for yr in year:\n",
        "    v=int(yr)\n",
        "    years.append(v)\n",
        "print(years)\n",
        "Samsung = value[1]\n",
        "Vivo=value[2]\n",
        "Xiaomi = value[3]\n",
        "Huawei = value[4]\n",
        "Apple = value[5]\n",
        "Samsung.pop(0)\n",
        "Vivo.pop(0)\n",
        "Xiaomi.pop(0)\n",
        "Huawei.pop(0)\n",
        "Apple.pop(0)\n",
        "\n",
        "[float(i) for i in Samsung]\n",
        "[float(i) for i in Vivo]\n",
        "[float(i) for i in Xiaomi]\n",
        "[float(i) for i in Huawei]\n",
        "[float(i) for i in Apple]"
      ],
      "execution_count": null,
      "outputs": []
    },
    {
      "cell_type": "code",
      "metadata": {
        "id": "f6-Ee5WdDVOI"
      },
      "source": [
        "# need to flat all year value in a single 1dlist\n",
        "y_axis=Samsung+Vivo+Xiaomi+Huawei+Apple\n",
        "# print(y_axis)\n",
        "# convert list string to list float\n",
        "float_y=[float(i) for i in y_axis]\n",
        "# print(float_y)\n"
      ],
      "execution_count": null,
      "outputs": []
    },
    {
      "cell_type": "code",
      "metadata": {
        "id": "T1WG7xH0BPjT"
      },
      "source": [
        "# x asis min,max\n",
        "mn=np.min(years)\n",
        "mx=np.max(years)\n",
        "# y axis min,max\n",
        "mny=np.min(float_y)\n",
        "mxy=np.max(float_y)\n",
        "# print(mny)"
      ],
      "execution_count": null,
      "outputs": []
    },
    {
      "cell_type": "code",
      "metadata": {
        "id": "XCjpG7dDBdCt"
      },
      "source": [
        "\n",
        "x_axis = np.array(years)\n",
        "# print(x_axis)\n",
        "y1Year = np.array(Samsung)\n",
        "print(y1Year)\n",
        "y2Year = np.array(Vivo)\n",
        "y3Year = np.array(Xiaomi)\n",
        "y4Year = np.array(Huawei)\n",
        "y5Year = np.array(Apple)\n",
        "# print(y1Year)\n",
        "plt.grid()\n",
        "plt.xticks(np.arange(mn,mx+1,1.0))\n",
        "# plt.yticks(np.arange(0,30,step=5))\n",
        "plt.plot(x_axis,y1Year,'bd-')\n",
        "plt.plot(x_axis,y2Year,'rd-')\n",
        "plt.plot(x_axis,y3Year,'ko-')\n",
        "plt.plot(x_axis,y4Year,'gD-')\n",
        "plt.plot(x_axis,y5Year,'bs-')\n",
        "\n",
        "plt.title(\"Market share of Mobile Brand\")\n",
        "plt.xlabel(\"Year\")\n",
        "plt.ylabel(\"Market share rate\")\n",
        "plt.legend([\"VIvo\",\"Xiaomi\",\"Huawei\",\"Apple\",\"Samsung\"],loc='best', bbox_to_anchor=(-0.01, .5, 0.5, 0.5))\n",
        "# plt.savefig('clpPlot.png',dpi=1200)"
      ],
      "execution_count": null,
      "outputs": []
    },
    {
      "cell_type": "markdown",
      "metadata": {
        "id": "yD50U_PaOABM"
      },
      "source": [
        "**Question3**"
      ]
    },
    {
      "cell_type": "code",
      "metadata": {
        "id": "J-JriK0PMKpn"
      },
      "source": [
        " Teacher={}\n",
        "keys=input(\"Keys:\")\n",
        "da=keys.split(\",\")\n",
        "print(da)\n",
        "# print(len(da))\n"
      ],
      "execution_count": null,
      "outputs": []
    },
    {
      "cell_type": "code",
      "metadata": {
        "id": "pTd5lrFnN-6N"
      },
      "source": [
        "#\n",
        "GlobalData=[]\n",
        "ls=['Lecturer', 'Sr. Lecturer']\n",
        "\n",
        "\n",
        "def teacher_data_collector(lst, GD):\n",
        "    for i in range(len(lst)):\n",
        "        data = []\n",
        "        print(\"Value for {0}:\".format(lst[i]))\n",
        "        while(True):\n",
        "            dta=input(\"\")\n",
        "            if dta ==' ':\n",
        "                break\n",
        "            data.append(dta)\n",
        "        # print(data)\n",
        "        GD.append(data)\n",
        "    # return GlobalData\n",
        "\n",
        "\n",
        "teacher_data_collector(da, GlobalData)\n",
        "print(GlobalData)\n"
      ],
      "execution_count": null,
      "outputs": []
    },
    {
      "cell_type": "code",
      "metadata": {
        "id": "wn3wHtFVMxag"
      },
      "source": [
        "t={}\n",
        "for i in range(len(da)):\n",
        "    s={da[i]:GlobalData[i]}\n",
        "    t.update(s)\n",
        "# print(t)\n",
        "Teacher.update(t)\n",
        "print(Teacher)"
      ],
      "execution_count": null,
      "outputs": []
    },
    {
      "cell_type": "code",
      "metadata": {
        "id": "6j6_SusCM183"
      },
      "source": [
        "def prinfInformation(T_info):\n",
        "        for key,value in T_info.items():\n",
        "            print(key)\n",
        "            for v in value:\n",
        "                print(\"   -  \",v)\n",
        "\n",
        "prinfInformation(Teacher)"
      ],
      "execution_count": null,
      "outputs": []
    },
    {
      "cell_type": "markdown",
      "metadata": {
        "id": "bNYyWIub77L2"
      },
      "source": [
        "**question4**"
      ]
    },
    {
      "cell_type": "code",
      "metadata": {
        "id": "YbOuDiZ98Xbd"
      },
      "source": [
        "class Stack:\n",
        "    def __init__(self):\n",
        "        self.items=[]\n",
        "\n",
        "    def push(self, items):\n",
        "        self.items.insert(0,items)\n",
        "\t\n",
        "    def pop(self):\n",
        "        return self.items.pop(0)\n",
        "\n",
        "    def peek(self):\n",
        "        return self.items[0] \n",
        "\n",
        "    def isEmpty(self):\n",
        "            return self.items == []\n",
        "\n",
        "stack = Stack()\n",
        "stack.push(\"hello\")\n",
        "stack.push(\"udoy\")\n",
        "stack.pop()         #this pop remove latest insert/push value.\n",
        "stack.isEmty()     #to check stack empty or not return bool value\n",
        "print(stack.peek())"
      ],
      "execution_count": null,
      "outputs": []
    },
    {
      "cell_type": "markdown",
      "metadata": {
        "id": "nUx5e-ZN-pmK"
      },
      "source": [
        "**Question 5**"
      ]
    },
    {
      "cell_type": "code",
      "metadata": {
        "id": "-qBFFd0Y-tJm"
      },
      "source": [
        "import random\n",
        "lst=[\"rock\",\"paper\",\"scisors\"]\n",
        "i=0\n",
        "while(True):\n",
        "    usr_input=input(\">\")\n",
        "    usrip=usr_input.lower()\n",
        "    # print(usrip)\n",
        "    if usrip=='!exit':\n",
        "        print(\"Bye!\")\n",
        "        break\n",
        "    if usrip in lst:\n",
        "        value=random.choice(lst)\n",
        "        # print(value)\n",
        "        # print(value)\n",
        "        if usrip == value:\n",
        "            print(\"There is a draw(\"+value +\")\")\n",
        "        elif(usrip == lst[0] and value == lst[1] or value == lst[2]):\n",
        "            print(\"Well done. The computer chose {0} and failed\".format(value))\n",
        "        elif(usrip == lst[1] and value == lst[0]):\n",
        "            print(\"Well done. The computer chose {0} and failed\".format(value))\n",
        "        elif(usrip == lst[1] and value == lst[2]):\n",
        "            print(\"Sorry, but the computer chose {0}\".format(value))\n",
        "        elif(usrip == lst[2] and value == lst[1]):\n",
        "            print(\"Well done. The computer chose {0} and failed\".format(value))\n",
        "        elif(usrip == lst[2] and value == lst[0]):\n",
        "            print(\"Sorry, but the computer chose {0}\".format(value))\n",
        "    else:\n",
        "        print(\"Invalid input\")"
      ],
      "execution_count": null,
      "outputs": []
    },
    {
      "cell_type": "code",
      "metadata": {
        "id": "alWk_JnVD2ag"
      },
      "source": [
        ""
      ],
      "execution_count": null,
      "outputs": []
    }
  ]
}