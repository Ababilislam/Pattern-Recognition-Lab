{
  "nbformat": 4,
  "nbformat_minor": 0,
  "metadata": {
    "colab": {
      "name": "Pattern_lab_report2.ipynb",
      "provenance": [],
      "collapsed_sections": [],
      "authorship_tag": "ABX9TyOIqUv6jLuezKwzPWD+xdjd",
      "include_colab_link": true
    },
    "kernelspec": {
      "display_name": "Python 3",
      "name": "python3"
    },
    "language_info": {
      "name": "python"
    }
  },
  "cells": [
    {
      "cell_type": "markdown",
      "metadata": {
        "id": "view-in-github",
        "colab_type": "text"
      },
      "source": [
        "<a href=\"https://colab.research.google.com/github/Ababilislam/Pattern-Recognition-Lab/blob/main/Pattern_lab_report2.ipynb\" target=\"_parent\"><img src=\"https://colab.research.google.com/assets/colab-badge.svg\" alt=\"Open In Colab\"/></a>"
      ]
    },
    {
      "cell_type": "markdown",
      "metadata": {
        "id": "wGvjYwk3opf5"
      },
      "source": [
        "**Question 1**"
      ]
    },
    {
      "cell_type": "markdown",
      "metadata": {
        "id": "yL91dtm675Tm"
      },
      "source": [
        ""
      ]
    },
    {
      "cell_type": "code",
      "metadata": {
        "id": "LtIL_sDmTujV",
        "colab": {
          "base_uri": "https://localhost:8080/"
        },
        "outputId": "9d670a2e-88ef-46ac-cfc2-9a5757894eb7"
      },
      "source": [
        "import re\n",
        "elements=[]\n",
        "word_list =[]\n",
        "delimiters = \",\", \".\", \"\\n\",\"(\",\")\"\n",
        "with open('data.txt','r') as file:\n",
        "    for line in file:\n",
        "        regxp ='|'.join(map(re.escape, delimiters))\n",
        "        d=re.split(regxp,line)\n",
        "        for item in d:\n",
        "            da=item.split()\n",
        "            elements.append(da)\n",
        "file.close()\n",
        "for lst in elements:\n",
        "    for item in lst:\n",
        "        word_list.append(item)\n",
        "# print(word_list)\n",
        "\n",
        "data = input(\"The keyword is:\")\n",
        "counter = 0\n",
        "for i in word_list:\n",
        "    if data == i:\n",
        "        counter += 1\n",
        "print(\"Python has appeared {0} times.\".format(counter))"
      ],
      "execution_count": 28,
      "outputs": [
        {
          "output_type": "stream",
          "text": [
            "The keyword is:python\n",
            "Python has appeared 0 times.\n"
          ],
          "name": "stdout"
        }
      ]
    },
    {
      "cell_type": "markdown",
      "metadata": {
        "id": "83pcqOm8pQCy"
      },
      "source": [
        "**Question2**"
      ]
    },
    {
      "cell_type": "code",
      "metadata": {
        "id": "x8SAzOxr_YiM"
      },
      "source": [
        "import matplotlib.pyplot as plt\n",
        "import numpy as np\n",
        "import csv"
      ],
      "execution_count": 29,
      "outputs": []
    },
    {
      "cell_type": "code",
      "metadata": {
        "id": "MbhZ6W8BSstM"
      },
      "source": [
        "column_name=['Mobile Brand','2016','2017','2018','2019','2020']     \n",
        "with open('Mobile.csv','w') as csv_file:\n",
        "    writer = csv.DictWriter(csv_file, fieldnames=column_name)\n",
        "    writer.writeheader()\n",
        "    writer.writerow({'Mobile Brand':'Samsung','2016':25,'2017':26,'2018':22,'2019':21,'2020':23.0})\n",
        "    writer.writerow({'Mobile Brand':'Vivo','2016':7,'2017':4,'2018':5,'2019':8,'2020':9.1})\n",
        "    writer.writerow({'Mobile Brand':'Xiaomi','2016':7,'2017':8,'2018':8,'2019':9,'2020':13.5})\n",
        "    writer.writerow({'Mobile Brand':'Huawei','2016':8,'2017':10,'2018':11,'2019':17,'2020':14.9})\n",
        "    writer.writerow({'Mobile Brand':'Apple','2016':9,'2017':11,'2018':14,'2019':10,'2020':12.4})\n",
        "csv_file.close()"
      ],
      "execution_count": 30,
      "outputs": []
    },
    {
      "cell_type": "code",
      "metadata": {
        "colab": {
          "base_uri": "https://localhost:8080/",
          "height": 35
        },
        "id": "-LiPjQIrSvnI",
        "outputId": "b0192e87-b9fe-4662-fac0-147d0960709d"
      },
      "source": [
        "value=[]\n",
        "with open (\"Mobile.csv\",'r') as csv_read:\n",
        "    csv_data_reader = csv.reader(csv_read)\n",
        "    data=csv_data_reader\n",
        "    for i in data:\n",
        "        value.append(i)\n",
        "csv_read.close()\n",
        "\n",
        "# print(value)\n",
        "year=value.pop(0)\n",
        "year.pop(0)\n",
        "# print(year)\n"
      ],
      "execution_count": 31,
      "outputs": [
        {
          "output_type": "execute_result",
          "data": {
            "application/vnd.google.colaboratory.intrinsic+json": {
              "type": "string"
            },
            "text/plain": [
              "'Mobile Brand'"
            ]
          },
          "metadata": {
            "tags": []
          },
          "execution_count": 31
        }
      ]
    },
    {
      "cell_type": "code",
      "metadata": {
        "colab": {
          "base_uri": "https://localhost:8080/",
          "height": 120
        },
        "id": "p6LRvv8fhSqy",
        "outputId": "f71c3ab5-3b36-463a-8f48-cd3eb6b26416"
      },
      "source": [
        "samsung=value[0]\n",
        "\n",
        "print(samsung)\n",
        "Vivo=value[1]\n",
        "\n",
        "print(Vivo)\n",
        "Xiaomi = value[2]\n",
        "\n",
        "print(Xiaomi)\n",
        "Huawei = value[3]\n",
        "\n",
        "print(Huawei)\n",
        "Apple = value[4]\n",
        "\n",
        "print(Apple)\n",
        "samsung.pop(0)\n",
        "Vivo.pop(0)\n",
        "Xiaomi.pop(0)\n",
        "Huawei.pop(0)\n",
        "Apple.pop(0)"
      ],
      "execution_count": 32,
      "outputs": [
        {
          "output_type": "stream",
          "text": [
            "['Samsung', '25', '26', '22', '21', '23.0']\n",
            "['Vivo', '7', '4', '5', '8', '9.1']\n",
            "['Xiaomi', '7', '8', '8', '9', '13.5']\n",
            "['Huawei', '8', '10', '11', '17', '14.9']\n",
            "['Apple', '9', '11', '14', '10', '12.4']\n"
          ],
          "name": "stdout"
        },
        {
          "output_type": "execute_result",
          "data": {
            "application/vnd.google.colaboratory.intrinsic+json": {
              "type": "string"
            },
            "text/plain": [
              "'Apple'"
            ]
          },
          "metadata": {
            "tags": []
          },
          "execution_count": 32
        }
      ]
    },
    {
      "cell_type": "code",
      "metadata": {
        "id": "KoRWjsVlXfYJ"
      },
      "source": [
        "# sam=[]\n",
        "# sam.append(value[0])\n",
        "# samsung=[]\n",
        "# for i in sam:\n",
        "#     sam=[]\n",
        "#     for item in i:\n",
        "#         # print(item)\n",
        "#         samsung.append(item)\n",
        "# print(samsung)\n",
        "# samsung.pop(0)\n",
        "\n",
        "# smsm=[]\n",
        "# for i in samsung:\n",
        "#     sm=float(i)\n",
        "#     smsm.append(sm)\n",
        "# print(smsm)\n",
        "# print(value)\n",
        "\n",
        "\n",
        "# for i in samsung:\n",
        "#     da=float(i)\n",
        "\n",
        "samsung=[float(i) for i in samsung]\n",
        "# print(type(samsung))\n",
        "# print(samsung)\n",
        "Vivo=[float(i) for i in Vivo]\n",
        "# print(Vivo)\n",
        "Xiaomi=[float(i) for i in Xiaomi]\n",
        "# print(Xiaomi)\n",
        "Huawei=[float(i) for i in Huawei]\n",
        "# print(Huawei)\n",
        "Apple=[float(i) for i in Apple]\n",
        "# print(Apple)"
      ],
      "execution_count": 33,
      "outputs": []
    },
    {
      "cell_type": "code",
      "metadata": {
        "colab": {
          "base_uri": "https://localhost:8080/",
          "height": 312
        },
        "id": "TBkEyhKWY7Y2",
        "outputId": "7f20522f-1f79-4490-a4bf-4e4dcb9fd030"
      },
      "source": [
        "x = np.array(year)\n",
        "samsung_y = np.array(samsung)\n",
        "Vivo_y = np.array(Vivo)\n",
        "Xiaomi_y = np.array(Xiaomi)\n",
        "Huawei_y = np.array(Huawei)\n",
        "Apple_y = np.array(Apple)\n",
        "# plt.grid()\n",
        "plt.grid(which='minor', alpha=0.2)\n",
        "plt.grid(which='major', alpha=0.5)\n",
        "# plt.grid(which='major', color='#CCCCCC', linestyle='--')\n",
        "# plt.grid(which='minor', color='#FFF59D', linestyle=':')\n",
        "\n",
        "plt.plot(x,samsung_y,'bd-')\n",
        "plt.plot(x,Vivo_y,'o-')\n",
        "plt.plot(x,Xiaomi_y,'s-')\n",
        "plt.plot(x,Huawei_y,'<-')\n",
        "plt.plot(x,Apple_y,'D-')\n",
        "plt.yticks(np.arange(0,40+1,5))# i use yticks 0-40 becasue to show legend at the right corner.\n",
        "plt.title(\"Market share of Mobile Brand\")\n",
        "plt.xlabel(\"Year\")\n",
        "plt.ylabel(\"Market share rate\")\n",
        "plt.legend([\"Samsung\",\"VIvo\",\"Xiaomi\",\"Huawei\",\"Apple\"],loc='best', bbox_to_anchor=(0.2, .5, .8, 0.5))\n",
        "# plt.savefig('clpPlot.png',dpi=1200)"
      ],
      "execution_count": 34,
      "outputs": [
        {
          "output_type": "execute_result",
          "data": {
            "text/plain": [
              "<matplotlib.legend.Legend at 0x7f2ed8af4050>"
            ]
          },
          "metadata": {
            "tags": []
          },
          "execution_count": 34
        },
        {
          "output_type": "display_data",
          "data": {
            "image/png": "[encoded data removed]",
            "text/plain": [
              "<Figure size 432x288 with 1 Axes>"
            ]
          },
          "metadata": {
            "tags": [],
            "needs_background": "light"
          }
        }
      ]
    },
    {
      "cell_type": "markdown",
      "metadata": {
        "id": "yD50U_PaOABM"
      },
      "source": [
        "**Question3**"
      ]
    },
    {
      "cell_type": "code",
      "metadata": {
        "id": "J-JriK0PMKpn",
        "colab": {
          "base_uri": "https://localhost:8080/"
        },
        "outputId": "445c2b21-095a-46d8-af2c-0a1d38f3e6aa"
      },
      "source": [
        "Teacher={}\n",
        "keys=input(\"Keys:\")\n",
        "da=keys.split(\",\")\n",
        "print(da) \n",
        "\n",
        "# print(len(da))\n"
      ],
      "execution_count": 35,
      "outputs": [
        {
          "output_type": "stream",
          "text": [
            "Keys:lec,srlec\n",
            "['lec', 'srlec']\n"
          ],
          "name": "stdout"
        }
      ]
    },
    {
      "cell_type": "code",
      "metadata": {
        "id": "sZfjM3zNS1iH"
      },
      "source": [
        "# lec\n",
        "# Palash Roy\n",
        "# Fahim Arefin\n",
        "# Shahin Alam Shuvo\n",
        "# Saklain Zaman\n",
        "# sr.lec\n",
        "# Ahmed Iqbal Pritom\n",
        "# MR. SHIHABUZZAMAN\n",
        "# use white space to stop takeing data for next cell input value."
      ],
      "execution_count": 36,
      "outputs": []
    },
    {
      "cell_type": "code",
      "metadata": {
        "id": "pTd5lrFnN-6N",
        "colab": {
          "base_uri": "https://localhost:8080/"
        },
        "outputId": "11628226-eca5-4c71-8bab-8babef66ad55"
      },
      "source": [
        "#\n",
        "GlobalData=[]\n",
        "ls=['Lecturer', 'Sr. Lecturer']\n",
        "\n",
        "\n",
        "def teacher_data_collector(lst, GD):\n",
        "    for i in range(len(lst)):\n",
        "        data = []\n",
        "        print(\"Value for {0}:\".format(lst[i]))\n",
        "        while(True):\n",
        "            dta=input(\"\")\n",
        "            if dta ==' ':\n",
        "                break\n",
        "            data.append(dta)\n",
        "        # print(data)\n",
        "        GD.append(data)\n",
        "    # return GlobalData\n",
        "\n",
        "\n",
        "teacher_data_collector(da, GlobalData)\n",
        "print(GlobalData)\n"
      ],
      "execution_count": 38,
      "outputs": [
        {
          "output_type": "stream",
          "text": [
            "Value for lec:\n",
            "a\n",
            "d\n",
            " \n",
            "Value for srlec:\n",
            "d\n",
            "d\n",
            " \n"
          ],
          "name": "stdout"
        }
      ]
    },
    {
      "cell_type": "markdown",
      "metadata": {
        "id": "5HeEpcfASKcn"
      },
      "source": [
        ""
      ]
    },
    {
      "cell_type": "code",
      "metadata": {
        "id": "wn3wHtFVMxag"
      },
      "source": [
        "t={}\n",
        "for i in range(len(da)):\n",
        "    s={da[i]:GlobalData[i]}\n",
        "    t.update(s)\n",
        "# print(t)\n",
        "Teacher.update(t)\n",
        "# print(Teacher)"
      ],
      "execution_count": 39,
      "outputs": []
    },
    {
      "cell_type": "code",
      "metadata": {
        "id": "6j6_SusCM183",
        "colab": {
          "base_uri": "https://localhost:8080/"
        },
        "outputId": "7677d73d-68f6-4c72-f5ee-262d4e41b5fd"
      },
      "source": [
        "def prinfInformation(T_info):\n",
        "        for key,value in T_info.items():\n",
        "            print(key)\n",
        "            for v in value:\n",
        "                print(\"   -  \",v)\n",
        "\n",
        "prinfInformation(Teacher)"
      ],
      "execution_count": 40,
      "outputs": [
        {
          "output_type": "stream",
          "text": [
            "lec\n",
            "   -   a\n",
            "   -   d\n",
            "srlec\n",
            "   -   d\n",
            "   -   d\n"
          ],
          "name": "stdout"
        }
      ]
    },
    {
      "cell_type": "markdown",
      "metadata": {
        "id": "bNYyWIub77L2"
      },
      "source": [
        "**question4**"
      ]
    },
    {
      "cell_type": "code",
      "metadata": {
        "id": "YbOuDiZ98Xbd",
        "colab": {
          "base_uri": "https://localhost:8080/"
        },
        "outputId": "19977c11-b3a9-4cba-c85f-5f2109d7c950"
      },
      "source": [
        "class Stack:\n",
        "    def __init__(self):\n",
        "        self.items=[]\n",
        "\n",
        "    def push(self, items):\n",
        "        self.items.insert(0,items)\n",
        "\t\n",
        "    def pop(self):\n",
        "        return self.items.pop(0)\n",
        "\n",
        "    def peek(self):\n",
        "        return self.items[0] \n",
        "\n",
        "    def isEmpty(self):\n",
        "            return self.items == []\n",
        "\n",
        "stack = Stack()\n",
        "stack.push(\"hello\")\n",
        "stack.push(\"udoy\")\n",
        "stack.pop()         #this pop remove latest insert/push value.\n",
        "stack.isEmpty()     #to check stack empty or not return bool value\n",
        "print(stack.peek())"
      ],
      "execution_count": 41,
      "outputs": [
        {
          "output_type": "stream",
          "text": [
            "hello\n"
          ],
          "name": "stdout"
        }
      ]
    },
    {
      "cell_type": "markdown",
      "metadata": {
        "id": "nUx5e-ZN-pmK"
      },
      "source": [
        "**Question 5**"
      ]
    },
    {
      "cell_type": "code",
      "metadata": {
        "id": "-qBFFd0Y-tJm",
        "colab": {
          "base_uri": "https://localhost:8080/",
          "height": 561
        },
        "outputId": "d3a70c18-4fb0-4f6d-fee4-6e61fec04e91"
      },
      "source": [
        "import random\n",
        "lst=[\"rock\",\"paper\",\"scisors\"]\n",
        "i=0\n",
        "while(True):\n",
        "    usr_input=input(\">\")\n",
        "    usrip=usr_input.lower()\n",
        "    # print(usrip)\n",
        "    if usrip=='!exit':\n",
        "        print(\"Bye!\")\n",
        "        break\n",
        "    if usrip in lst:\n",
        "        value=random.choice(lst)\n",
        "        # print(value)\n",
        "        # print(value)\n",
        "        if usrip == value:\n",
        "            print(\"There is a draw(\"+value +\")\")\n",
        "        elif(usrip == lst[0] and value == lst[1] or value == lst[2]):\n",
        "            print(\"Well done. The computer chose {0} and failed\".format(value))\n",
        "        elif(usrip == lst[1] and value == lst[0]):\n",
        "            print(\"Well done. The computer chose {0} and failed\".format(value))\n",
        "        elif(usrip == lst[1] and value == lst[2]):\n",
        "            print(\"Sorry, but the computer chose {0}\".format(value))\n",
        "        elif(usrip == lst[2] and value == lst[1]):\n",
        "            print(\"Well done. The computer chose {0} and failed\".format(value))\n",
        "        elif(usrip == lst[2] and value == lst[0]):\n",
        "            print(\"Sorry, but the computer chose {0}\".format(value))\n",
        "    else:\n",
        "        print(\"Invalid input\")"
      ],
      "execution_count": 42,
      "outputs": [
        {
          "output_type": "error",
          "ename": "KeyboardInterrupt",
          "evalue": "ignored",
          "traceback": [
            "\u001b[0;31m---------------------------------------------------------------------------\u001b[0m",
            "\u001b[0;31mKeyboardInterrupt\u001b[0m                         Traceback (most recent call last)",
            "\u001b[0;32m/usr/local/lib/python3.7/dist-packages/ipykernel/kernelbase.py\u001b[0m in \u001b[0;36m_input_request\u001b[0;34m(self, prompt, ident, parent, password)\u001b[0m\n\u001b[1;32m    728\u001b[0m             \u001b[0;32mtry\u001b[0m\u001b[0;34m:\u001b[0m\u001b[0;34m\u001b[0m\u001b[0;34m\u001b[0m\u001b[0m\n\u001b[0;32m--> 729\u001b[0;31m                 \u001b[0mident\u001b[0m\u001b[0;34m,\u001b[0m \u001b[0mreply\u001b[0m \u001b[0;34m=\u001b[0m \u001b[0mself\u001b[0m\u001b[0;34m.\u001b[0m\u001b[0msession\u001b[0m\u001b[0;34m.\u001b[0m\u001b[0mrecv\u001b[0m\u001b[0;34m(\u001b[0m\u001b[0mself\u001b[0m\u001b[0;34m.\u001b[0m\u001b[0mstdin_socket\u001b[0m\u001b[0;34m,\u001b[0m \u001b[0;36m0\u001b[0m\u001b[0;34m)\u001b[0m\u001b[0;34m\u001b[0m\u001b[0;34m\u001b[0m\u001b[0m\n\u001b[0m\u001b[1;32m    730\u001b[0m             \u001b[0;32mexcept\u001b[0m \u001b[0mException\u001b[0m\u001b[0;34m:\u001b[0m\u001b[0;34m\u001b[0m\u001b[0;34m\u001b[0m\u001b[0m\n",
            "\u001b[0;32m/usr/local/lib/python3.7/dist-packages/jupyter_client/session.py\u001b[0m in \u001b[0;36mrecv\u001b[0;34m(self, socket, mode, content, copy)\u001b[0m\n\u001b[1;32m    802\u001b[0m         \u001b[0;32mtry\u001b[0m\u001b[0;34m:\u001b[0m\u001b[0;34m\u001b[0m\u001b[0;34m\u001b[0m\u001b[0m\n\u001b[0;32m--> 803\u001b[0;31m             \u001b[0mmsg_list\u001b[0m \u001b[0;34m=\u001b[0m \u001b[0msocket\u001b[0m\u001b[0;34m.\u001b[0m\u001b[0mrecv_multipart\u001b[0m\u001b[0;34m(\u001b[0m\u001b[0mmode\u001b[0m\u001b[0;34m,\u001b[0m \u001b[0mcopy\u001b[0m\u001b[0;34m=\u001b[0m\u001b[0mcopy\u001b[0m\u001b[0;34m)\u001b[0m\u001b[0;34m\u001b[0m\u001b[0;34m\u001b[0m\u001b[0m\n\u001b[0m\u001b[1;32m    804\u001b[0m         \u001b[0;32mexcept\u001b[0m \u001b[0mzmq\u001b[0m\u001b[0;34m.\u001b[0m\u001b[0mZMQError\u001b[0m \u001b[0;32mas\u001b[0m \u001b[0me\u001b[0m\u001b[0;34m:\u001b[0m\u001b[0;34m\u001b[0m\u001b[0;34m\u001b[0m\u001b[0m\n",
            "\u001b[0;32m/usr/local/lib/python3.7/dist-packages/zmq/sugar/socket.py\u001b[0m in \u001b[0;36mrecv_multipart\u001b[0;34m(self, flags, copy, track)\u001b[0m\n\u001b[1;32m    582\u001b[0m         \"\"\"\n\u001b[0;32m--> 583\u001b[0;31m         \u001b[0mparts\u001b[0m \u001b[0;34m=\u001b[0m \u001b[0;34m[\u001b[0m\u001b[0mself\u001b[0m\u001b[0;34m.\u001b[0m\u001b[0mrecv\u001b[0m\u001b[0;34m(\u001b[0m\u001b[0mflags\u001b[0m\u001b[0;34m,\u001b[0m \u001b[0mcopy\u001b[0m\u001b[0;34m=\u001b[0m\u001b[0mcopy\u001b[0m\u001b[0;34m,\u001b[0m \u001b[0mtrack\u001b[0m\u001b[0;34m=\u001b[0m\u001b[0mtrack\u001b[0m\u001b[0;34m)\u001b[0m\u001b[0;34m]\u001b[0m\u001b[0;34m\u001b[0m\u001b[0;34m\u001b[0m\u001b[0m\n\u001b[0m\u001b[1;32m    584\u001b[0m         \u001b[0;31m# have first part already, only loop while more to receive\u001b[0m\u001b[0;34m\u001b[0m\u001b[0;34m\u001b[0m\u001b[0;34m\u001b[0m\u001b[0m\n",
            "\u001b[0;32mzmq/backend/cython/socket.pyx\u001b[0m in \u001b[0;36mzmq.backend.cython.socket.Socket.recv\u001b[0;34m()\u001b[0m\n",
            "\u001b[0;32mzmq/backend/cython/socket.pyx\u001b[0m in \u001b[0;36mzmq.backend.cython.socket.Socket.recv\u001b[0;34m()\u001b[0m\n",
            "\u001b[0;32mzmq/backend/cython/socket.pyx\u001b[0m in \u001b[0;36mzmq.backend.cython.socket._recv_copy\u001b[0;34m()\u001b[0m\n",
            "\u001b[0;32m/usr/local/lib/python3.7/dist-packages/zmq/backend/cython/checkrc.pxd\u001b[0m in \u001b[0;36mzmq.backend.cython.checkrc._check_rc\u001b[0;34m()\u001b[0m\n",
            "\u001b[0;31mKeyboardInterrupt\u001b[0m: ",
            "\nDuring handling of the above exception, another exception occurred:\n",
            "\u001b[0;31mKeyboardInterrupt\u001b[0m                         Traceback (most recent call last)",
            "\u001b[0;32m<ipython-input-42-b4dffada7210>\u001b[0m in \u001b[0;36m<module>\u001b[0;34m()\u001b[0m\n\u001b[1;32m      3\u001b[0m \u001b[0mi\u001b[0m\u001b[0;34m=\u001b[0m\u001b[0;36m0\u001b[0m\u001b[0;34m\u001b[0m\u001b[0;34m\u001b[0m\u001b[0m\n\u001b[1;32m      4\u001b[0m \u001b[0;32mwhile\u001b[0m\u001b[0;34m(\u001b[0m\u001b[0;32mTrue\u001b[0m\u001b[0;34m)\u001b[0m\u001b[0;34m:\u001b[0m\u001b[0;34m\u001b[0m\u001b[0;34m\u001b[0m\u001b[0m\n\u001b[0;32m----> 5\u001b[0;31m     \u001b[0musr_input\u001b[0m\u001b[0;34m=\u001b[0m\u001b[0minput\u001b[0m\u001b[0;34m(\u001b[0m\u001b[0;34m\">\"\u001b[0m\u001b[0;34m)\u001b[0m\u001b[0;34m\u001b[0m\u001b[0;34m\u001b[0m\u001b[0m\n\u001b[0m\u001b[1;32m      6\u001b[0m     \u001b[0musrip\u001b[0m\u001b[0;34m=\u001b[0m\u001b[0musr_input\u001b[0m\u001b[0;34m.\u001b[0m\u001b[0mlower\u001b[0m\u001b[0;34m(\u001b[0m\u001b[0;34m)\u001b[0m\u001b[0;34m\u001b[0m\u001b[0;34m\u001b[0m\u001b[0m\n\u001b[1;32m      7\u001b[0m     \u001b[0;31m# print(usrip)\u001b[0m\u001b[0;34m\u001b[0m\u001b[0;34m\u001b[0m\u001b[0;34m\u001b[0m\u001b[0m\n",
            "\u001b[0;32m/usr/local/lib/python3.7/dist-packages/ipykernel/kernelbase.py\u001b[0m in \u001b[0;36mraw_input\u001b[0;34m(self, prompt)\u001b[0m\n\u001b[1;32m    702\u001b[0m             \u001b[0mself\u001b[0m\u001b[0;34m.\u001b[0m\u001b[0m_parent_ident\u001b[0m\u001b[0;34m,\u001b[0m\u001b[0;34m\u001b[0m\u001b[0;34m\u001b[0m\u001b[0m\n\u001b[1;32m    703\u001b[0m             \u001b[0mself\u001b[0m\u001b[0;34m.\u001b[0m\u001b[0m_parent_header\u001b[0m\u001b[0;34m,\u001b[0m\u001b[0;34m\u001b[0m\u001b[0;34m\u001b[0m\u001b[0m\n\u001b[0;32m--> 704\u001b[0;31m             \u001b[0mpassword\u001b[0m\u001b[0;34m=\u001b[0m\u001b[0;32mFalse\u001b[0m\u001b[0;34m,\u001b[0m\u001b[0;34m\u001b[0m\u001b[0;34m\u001b[0m\u001b[0m\n\u001b[0m\u001b[1;32m    705\u001b[0m         )\n\u001b[1;32m    706\u001b[0m \u001b[0;34m\u001b[0m\u001b[0m\n",
            "\u001b[0;32m/usr/local/lib/python3.7/dist-packages/ipykernel/kernelbase.py\u001b[0m in \u001b[0;36m_input_request\u001b[0;34m(self, prompt, ident, parent, password)\u001b[0m\n\u001b[1;32m    732\u001b[0m             \u001b[0;32mexcept\u001b[0m \u001b[0mKeyboardInterrupt\u001b[0m\u001b[0;34m:\u001b[0m\u001b[0;34m\u001b[0m\u001b[0;34m\u001b[0m\u001b[0m\n\u001b[1;32m    733\u001b[0m                 \u001b[0;31m# re-raise KeyboardInterrupt, to truncate traceback\u001b[0m\u001b[0;34m\u001b[0m\u001b[0;34m\u001b[0m\u001b[0;34m\u001b[0m\u001b[0m\n\u001b[0;32m--> 734\u001b[0;31m                 \u001b[0;32mraise\u001b[0m \u001b[0mKeyboardInterrupt\u001b[0m\u001b[0;34m\u001b[0m\u001b[0;34m\u001b[0m\u001b[0m\n\u001b[0m\u001b[1;32m    735\u001b[0m             \u001b[0;32melse\u001b[0m\u001b[0;34m:\u001b[0m\u001b[0;34m\u001b[0m\u001b[0;34m\u001b[0m\u001b[0m\n\u001b[1;32m    736\u001b[0m                 \u001b[0;32mbreak\u001b[0m\u001b[0;34m\u001b[0m\u001b[0;34m\u001b[0m\u001b[0m\n",
            "\u001b[0;31mKeyboardInterrupt\u001b[0m: "
          ]
        }
      ]
    },
    {
      "cell_type": "code",
      "metadata": {
        "id": "alWk_JnVD2ag"
      },
      "source": [
        ""
      ],
      "execution_count": null,
      "outputs": []
    }
  ]
}